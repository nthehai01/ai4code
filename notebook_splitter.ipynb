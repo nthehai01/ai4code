{
 "cells": [
  {
   "cell_type": "markdown",
   "metadata": {},
   "source": [
    "# Notebook EDA\n",
    "# and Create the Training, Validation, Testing data set"
   ]
  },
  {
   "cell_type": "code",
   "execution_count": 1,
   "metadata": {},
   "outputs": [],
   "source": [
    "import tensorflow as tf\n",
    "import numpy as np\n",
    "import pandas as pd\n",
    "import matplotlib.pyplot as plt\n",
    "from sklearn.model_selection import train_test_split\n",
    "\n",
    "from constant import *\n",
    "from data import Dataset"
   ]
  },
  {
   "cell_type": "markdown",
   "metadata": {},
   "source": [
    "Load the whole dataset:"
   ]
  },
  {
   "cell_type": "code",
   "execution_count": 2,
   "metadata": {},
   "outputs": [
    {
     "name": "stderr",
     "output_type": "stream",
     "text": [
      "Train NBs: 100%|██████████| 139256/139256 [04:08<00:00, 560.91it/s]\n",
      "/Users/hainguyen/Documents/ai4code/data.py:98: FutureWarning: The squeeze argument has been deprecated and will be removed in a future version. Append .squeeze(\"columns\") to the call to squeeze.\n",
      "\n",
      "\n",
      "  df_orders = pd.read_csv(\n"
     ]
    }
   ],
   "source": [
    "d = Dataset(\n",
    "    DATA_DIR, \n",
    "    MODEL_PATH, \n",
    "    -1, \n",
    "    -1, \n",
    "    -1, \n",
    "    -1, \n",
    "    -1, \n",
    "    -1\n",
    ")\n",
    "\n",
    "df = d.load_dataset()"
   ]
  },
  {
   "cell_type": "markdown",
   "metadata": {},
   "source": [
    "Take a look at the dataset:"
   ]
  },
  {
   "cell_type": "code",
   "execution_count": 3,
   "metadata": {},
   "outputs": [
    {
     "data": {
      "text/html": [
       "<div>\n",
       "<style scoped>\n",
       "    .dataframe tbody tr th:only-of-type {\n",
       "        vertical-align: middle;\n",
       "    }\n",
       "\n",
       "    .dataframe tbody tr th {\n",
       "        vertical-align: top;\n",
       "    }\n",
       "\n",
       "    .dataframe thead th {\n",
       "        text-align: right;\n",
       "    }\n",
       "</style>\n",
       "<table border=\"1\" class=\"dataframe\">\n",
       "  <thead>\n",
       "    <tr style=\"text-align: right;\">\n",
       "      <th></th>\n",
       "      <th>id</th>\n",
       "      <th>cell_id</th>\n",
       "      <th>cell_type</th>\n",
       "      <th>source</th>\n",
       "      <th>rank</th>\n",
       "      <th>pct_rank</th>\n",
       "      <th>ancestor_id</th>\n",
       "      <th>parent_id</th>\n",
       "    </tr>\n",
       "  </thead>\n",
       "  <tbody>\n",
       "    <tr>\n",
       "      <th>0</th>\n",
       "      <td>00001756c60be8</td>\n",
       "      <td>1862f0a6</td>\n",
       "      <td>code</td>\n",
       "      <td># This Python 3 environment comes with many he...</td>\n",
       "      <td>0</td>\n",
       "      <td>0.0</td>\n",
       "      <td>945aea18</td>\n",
       "      <td>NaN</td>\n",
       "    </tr>\n",
       "    <tr>\n",
       "      <th>1</th>\n",
       "      <td>00001756c60be8</td>\n",
       "      <td>448eb224</td>\n",
       "      <td>markdown</td>\n",
       "      <td>**Импортируем необходимые для работы функции и...</td>\n",
       "      <td>1</td>\n",
       "      <td>0.017241</td>\n",
       "      <td>945aea18</td>\n",
       "      <td>NaN</td>\n",
       "    </tr>\n",
       "    <tr>\n",
       "      <th>2</th>\n",
       "      <td>00001756c60be8</td>\n",
       "      <td>2a9e43d6</td>\n",
       "      <td>code</td>\n",
       "      <td>import numpy as np\\nimport pandas as pd\\nimpor...</td>\n",
       "      <td>2</td>\n",
       "      <td>0.034483</td>\n",
       "      <td>945aea18</td>\n",
       "      <td>NaN</td>\n",
       "    </tr>\n",
       "    <tr>\n",
       "      <th>3</th>\n",
       "      <td>00001756c60be8</td>\n",
       "      <td>7e2f170a</td>\n",
       "      <td>markdown</td>\n",
       "      <td>**Подключаем предупреждения**</td>\n",
       "      <td>3</td>\n",
       "      <td>0.051724</td>\n",
       "      <td>945aea18</td>\n",
       "      <td>NaN</td>\n",
       "    </tr>\n",
       "    <tr>\n",
       "      <th>4</th>\n",
       "      <td>00001756c60be8</td>\n",
       "      <td>038b763d</td>\n",
       "      <td>code</td>\n",
       "      <td>import warnings\\nwarnings.filterwarnings('igno...</td>\n",
       "      <td>4</td>\n",
       "      <td>0.068966</td>\n",
       "      <td>945aea18</td>\n",
       "      <td>NaN</td>\n",
       "    </tr>\n",
       "  </tbody>\n",
       "</table>\n",
       "</div>"
      ],
      "text/plain": [
       "               id   cell_id cell_type  \\\n",
       "0  00001756c60be8  1862f0a6      code   \n",
       "1  00001756c60be8  448eb224  markdown   \n",
       "2  00001756c60be8  2a9e43d6      code   \n",
       "3  00001756c60be8  7e2f170a  markdown   \n",
       "4  00001756c60be8  038b763d      code   \n",
       "\n",
       "                                              source rank  pct_rank  \\\n",
       "0  # This Python 3 environment comes with many he...    0       0.0   \n",
       "1  **Импортируем необходимые для работы функции и...    1  0.017241   \n",
       "2  import numpy as np\\nimport pandas as pd\\nimpor...    2  0.034483   \n",
       "3                      **Подключаем предупреждения**    3  0.051724   \n",
       "4  import warnings\\nwarnings.filterwarnings('igno...    4  0.068966   \n",
       "\n",
       "  ancestor_id parent_id  \n",
       "0    945aea18       NaN  \n",
       "1    945aea18       NaN  \n",
       "2    945aea18       NaN  \n",
       "3    945aea18       NaN  \n",
       "4    945aea18       NaN  "
      ]
     },
     "execution_count": 3,
     "metadata": {},
     "output_type": "execute_result"
    }
   ],
   "source": [
    "df.head()"
   ]
  },
  {
   "cell_type": "markdown",
   "metadata": {},
   "source": [
    "## Notebook EDA"
   ]
  },
  {
   "cell_type": "markdown",
   "metadata": {},
   "source": [
    "### Get the distribution of the number of cells within each notebook"
   ]
  },
  {
   "cell_type": "code",
   "execution_count": 4,
   "metadata": {},
   "outputs": [],
   "source": [
    "cell_num = df.groupby(\"id\").count()"
   ]
  },
  {
   "cell_type": "code",
   "execution_count": 5,
   "metadata": {},
   "outputs": [
    {
     "data": {
      "image/png": "[encoded data removed]",
      "text/plain": [
       "<Figure size 640x480 with 1 Axes>"
      ]
     },
     "metadata": {},
     "output_type": "display_data"
    }
   ],
   "source": [
    "plt.boxplot(cell_num[\"cell_id\"])\n",
    "plt.show()"
   ]
  },
  {
   "cell_type": "markdown",
   "metadata": {},
   "source": [
    "From the plot above, there are some outliers having from more than about 128 to 1000 cells within a notebook. Let's figure out how much of them are in our dataset:"
   ]
  },
  {
   "cell_type": "code",
   "execution_count": 6,
   "metadata": {},
   "outputs": [
    {
     "data": {
      "text/plain": [
       "3.941661400585971"
      ]
     },
     "execution_count": 6,
     "metadata": {},
     "output_type": "execute_result"
    }
   ],
   "source": [
    "np.mean(cell_num[\"cell_id\"] > 128) * 100"
   ]
  },
  {
   "cell_type": "markdown",
   "metadata": {},
   "source": [
    "There are only 4% of them. So we end up remove the out of our dataset."
   ]
  },
  {
   "cell_type": "code",
   "execution_count": 7,
   "metadata": {},
   "outputs": [],
   "source": [
    "cell_num = cell_num[cell_num[\"cell_id\"] <= 128]"
   ]
  },
  {
   "cell_type": "markdown",
   "metadata": {},
   "source": [
    "Plot the distribution after removing outliers:"
   ]
  },
  {
   "cell_type": "code",
   "execution_count": 8,
   "metadata": {},
   "outputs": [
    {
     "data": {
      "image/png": "[encoded data removed]",
      "text/plain": [
       "<Figure size 640x480 with 1 Axes>"
      ]
     },
     "metadata": {},
     "output_type": "display_data"
    }
   ],
   "source": [
    "plt.hist(cell_num.cell_id, density=True, bins=128)\n",
    "plt.show()"
   ]
  },
  {
   "cell_type": "markdown",
   "metadata": {},
   "source": [
    "### Get the distribution of the number of words within each cell"
   ]
  },
  {
   "cell_type": "code",
   "execution_count": 9,
   "metadata": {},
   "outputs": [
    {
     "data": {
      "text/html": [
       "<div>\n",
       "<style scoped>\n",
       "    .dataframe tbody tr th:only-of-type {\n",
       "        vertical-align: middle;\n",
       "    }\n",
       "\n",
       "    .dataframe tbody tr th {\n",
       "        vertical-align: top;\n",
       "    }\n",
       "\n",
       "    .dataframe thead th {\n",
       "        text-align: right;\n",
       "    }\n",
       "</style>\n",
       "<table border=\"1\" class=\"dataframe\">\n",
       "  <thead>\n",
       "    <tr style=\"text-align: right;\">\n",
       "      <th></th>\n",
       "      <th>id</th>\n",
       "      <th>cell_id</th>\n",
       "      <th>cell_type</th>\n",
       "      <th>source</th>\n",
       "      <th>rank</th>\n",
       "      <th>pct_rank</th>\n",
       "      <th>ancestor_id</th>\n",
       "      <th>parent_id</th>\n",
       "      <th>word_count</th>\n",
       "    </tr>\n",
       "  </thead>\n",
       "  <tbody>\n",
       "    <tr>\n",
       "      <th>0</th>\n",
       "      <td>00001756c60be8</td>\n",
       "      <td>1862f0a6</td>\n",
       "      <td>code</td>\n",
       "      <td># This Python 3 environment comes with many he...</td>\n",
       "      <td>0</td>\n",
       "      <td>0.0</td>\n",
       "      <td>945aea18</td>\n",
       "      <td>NaN</td>\n",
       "      <td>140</td>\n",
       "    </tr>\n",
       "    <tr>\n",
       "      <th>1</th>\n",
       "      <td>00001756c60be8</td>\n",
       "      <td>448eb224</td>\n",
       "      <td>markdown</td>\n",
       "      <td>**Импортируем необходимые для работы функции и...</td>\n",
       "      <td>1</td>\n",
       "      <td>0.017241</td>\n",
       "      <td>945aea18</td>\n",
       "      <td>NaN</td>\n",
       "      <td>7</td>\n",
       "    </tr>\n",
       "    <tr>\n",
       "      <th>2</th>\n",
       "      <td>00001756c60be8</td>\n",
       "      <td>2a9e43d6</td>\n",
       "      <td>code</td>\n",
       "      <td>import numpy as np\\nimport pandas as pd\\nimpor...</td>\n",
       "      <td>2</td>\n",
       "      <td>0.034483</td>\n",
       "      <td>945aea18</td>\n",
       "      <td>NaN</td>\n",
       "      <td>55</td>\n",
       "    </tr>\n",
       "    <tr>\n",
       "      <th>3</th>\n",
       "      <td>00001756c60be8</td>\n",
       "      <td>7e2f170a</td>\n",
       "      <td>markdown</td>\n",
       "      <td>**Подключаем предупреждения**</td>\n",
       "      <td>3</td>\n",
       "      <td>0.051724</td>\n",
       "      <td>945aea18</td>\n",
       "      <td>NaN</td>\n",
       "      <td>2</td>\n",
       "    </tr>\n",
       "    <tr>\n",
       "      <th>4</th>\n",
       "      <td>00001756c60be8</td>\n",
       "      <td>038b763d</td>\n",
       "      <td>code</td>\n",
       "      <td>import warnings\\nwarnings.filterwarnings('igno...</td>\n",
       "      <td>4</td>\n",
       "      <td>0.068966</td>\n",
       "      <td>945aea18</td>\n",
       "      <td>NaN</td>\n",
       "      <td>3</td>\n",
       "    </tr>\n",
       "  </tbody>\n",
       "</table>\n",
       "</div>"
      ],
      "text/plain": [
       "               id   cell_id cell_type  \\\n",
       "0  00001756c60be8  1862f0a6      code   \n",
       "1  00001756c60be8  448eb224  markdown   \n",
       "2  00001756c60be8  2a9e43d6      code   \n",
       "3  00001756c60be8  7e2f170a  markdown   \n",
       "4  00001756c60be8  038b763d      code   \n",
       "\n",
       "                                              source rank  pct_rank  \\\n",
       "0  # This Python 3 environment comes with many he...    0       0.0   \n",
       "1  **Импортируем необходимые для работы функции и...    1  0.017241   \n",
       "2  import numpy as np\\nimport pandas as pd\\nimpor...    2  0.034483   \n",
       "3                      **Подключаем предупреждения**    3  0.051724   \n",
       "4  import warnings\\nwarnings.filterwarnings('igno...    4  0.068966   \n",
       "\n",
       "  ancestor_id parent_id  word_count  \n",
       "0    945aea18       NaN         140  \n",
       "1    945aea18       NaN           7  \n",
       "2    945aea18       NaN          55  \n",
       "3    945aea18       NaN           2  \n",
       "4    945aea18       NaN           3  "
      ]
     },
     "execution_count": 9,
     "metadata": {},
     "output_type": "execute_result"
    }
   ],
   "source": [
    "df_temp = df.assign(word_count = lambda x: (x['source'].str.split().str.len()))\n",
    "df_temp.head()"
   ]
  },
  {
   "cell_type": "code",
   "execution_count": 10,
   "metadata": {},
   "outputs": [
    {
     "data": {
      "image/png": "[encoded data removed]",
      "text/plain": [
       "<Figure size 640x480 with 1 Axes>"
      ]
     },
     "metadata": {},
     "output_type": "display_data"
    }
   ],
   "source": [
    "plt.boxplot(df_temp[\"word_count\"])\n",
    "plt.show()"
   ]
  },
  {
   "cell_type": "markdown",
   "metadata": {},
   "source": [
    "From the plot above, let's figure out how many percent that a cell contains more than 128 words:"
   ]
  },
  {
   "cell_type": "code",
   "execution_count": 11,
   "metadata": {},
   "outputs": [
    {
     "data": {
      "text/plain": [
       "3.4346124396175832"
      ]
     },
     "execution_count": 11,
     "metadata": {},
     "output_type": "execute_result"
    }
   ],
   "source": [
    "np.mean(df_temp[\"word_count\"] > 128) * 100"
   ]
  },
  {
   "cell_type": "markdown",
   "metadata": {},
   "source": [
    "There are only 4% that a cell having more than 128 words. Ideally, while training we should limit the number of words within a cell to 128. Take a look at how the number of words with a cell with less than 128 words distribute:"
   ]
  },
  {
   "cell_type": "code",
   "execution_count": 12,
   "metadata": {},
   "outputs": [
    {
     "data": {
      "image/png": "[encoded data removed]",
      "text/plain": [
       "<Figure size 640x480 with 1 Axes>"
      ]
     },
     "metadata": {},
     "output_type": "display_data"
    }
   ],
   "source": [
    "plt.hist(df_temp[df_temp[\"word_count\"] <= 128].word_count, bins=128, density=True)\n",
    "plt.show()"
   ]
  },
  {
   "cell_type": "markdown",
   "metadata": {},
   "source": [
    "## Split dataset"
   ]
  },
  {
   "cell_type": "markdown",
   "metadata": {},
   "source": [
    "Since there are almost 140k notebooks in the dataset, we should use about 5k for the validation set and another 5k for the test set. The remaining is used for training.\n",
    "\n",
    "So we will use test size with 9% for both the validation and test set:"
   ]
  },
  {
   "cell_type": "code",
   "execution_count": 13,
   "metadata": {},
   "outputs": [],
   "source": [
    "train, val_test = train_test_split(\n",
    "    df.groupby(\"id\").count(), \n",
    "    test_size=0.09, \n",
    "    random_state=42\n",
    ")"
   ]
  },
  {
   "cell_type": "code",
   "execution_count": 14,
   "metadata": {},
   "outputs": [],
   "source": [
    "train = df.reset_index(drop=True).merge(\n",
    "    pd.Series(train.index, index=train.index), \n",
    "    how=\"right\", \n",
    "    left_on=\"id\", \n",
    "    right_index=True\n",
    ")\n",
    "\n",
    "train = train.drop([\"id_x\", \"id_y\"], axis=1)"
   ]
  },
  {
   "cell_type": "code",
   "execution_count": 15,
   "metadata": {},
   "outputs": [
    {
     "data": {
      "text/html": [
       "<div>\n",
       "<style scoped>\n",
       "    .dataframe tbody tr th:only-of-type {\n",
       "        vertical-align: middle;\n",
       "    }\n",
       "\n",
       "    .dataframe tbody tr th {\n",
       "        vertical-align: top;\n",
       "    }\n",
       "\n",
       "    .dataframe thead th {\n",
       "        text-align: right;\n",
       "    }\n",
       "</style>\n",
       "<table border=\"1\" class=\"dataframe\">\n",
       "  <thead>\n",
       "    <tr style=\"text-align: right;\">\n",
       "      <th></th>\n",
       "      <th>id</th>\n",
       "      <th>cell_id</th>\n",
       "      <th>cell_type</th>\n",
       "      <th>source</th>\n",
       "      <th>rank</th>\n",
       "      <th>pct_rank</th>\n",
       "      <th>ancestor_id</th>\n",
       "      <th>parent_id</th>\n",
       "    </tr>\n",
       "  </thead>\n",
       "  <tbody>\n",
       "    <tr>\n",
       "      <th>3815032</th>\n",
       "      <td>98ec911472a34c</td>\n",
       "      <td>0c82d39b</td>\n",
       "      <td>markdown</td>\n",
       "      <td># Introduction</td>\n",
       "      <td>0</td>\n",
       "      <td>0.0</td>\n",
       "      <td>047612c1</td>\n",
       "      <td>074054d4860254</td>\n",
       "    </tr>\n",
       "    <tr>\n",
       "      <th>3815033</th>\n",
       "      <td>98ec911472a34c</td>\n",
       "      <td>f6439bc3</td>\n",
       "      <td>markdown</td>\n",
       "      <td>I am going to introduce Mobilenet SSD face ext...</td>\n",
       "      <td>1</td>\n",
       "      <td>0.058824</td>\n",
       "      <td>047612c1</td>\n",
       "      <td>074054d4860254</td>\n",
       "    </tr>\n",
       "    <tr>\n",
       "      <th>3815034</th>\n",
       "      <td>98ec911472a34c</td>\n",
       "      <td>13ab8820</td>\n",
       "      <td>markdown</td>\n",
       "      <td>In this kernel, it will be a clean version of ...</td>\n",
       "      <td>2</td>\n",
       "      <td>0.117647</td>\n",
       "      <td>047612c1</td>\n",
       "      <td>074054d4860254</td>\n",
       "    </tr>\n",
       "    <tr>\n",
       "      <th>3815035</th>\n",
       "      <td>98ec911472a34c</td>\n",
       "      <td>2eb66f95</td>\n",
       "      <td>markdown</td>\n",
       "      <td>**Here is the comparison to other face extract...</td>\n",
       "      <td>3</td>\n",
       "      <td>0.176471</td>\n",
       "      <td>047612c1</td>\n",
       "      <td>074054d4860254</td>\n",
       "    </tr>\n",
       "    <tr>\n",
       "      <th>3815036</th>\n",
       "      <td>98ec911472a34c</td>\n",
       "      <td>7cce2372</td>\n",
       "      <td>markdown</td>\n",
       "      <td># Imports</td>\n",
       "      <td>4</td>\n",
       "      <td>0.235294</td>\n",
       "      <td>047612c1</td>\n",
       "      <td>074054d4860254</td>\n",
       "    </tr>\n",
       "  </tbody>\n",
       "</table>\n",
       "</div>"
      ],
      "text/plain": [
       "                     id   cell_id cell_type  \\\n",
       "3815032  98ec911472a34c  0c82d39b  markdown   \n",
       "3815033  98ec911472a34c  f6439bc3  markdown   \n",
       "3815034  98ec911472a34c  13ab8820  markdown   \n",
       "3815035  98ec911472a34c  2eb66f95  markdown   \n",
       "3815036  98ec911472a34c  7cce2372  markdown   \n",
       "\n",
       "                                                    source rank  pct_rank  \\\n",
       "3815032                                     # Introduction    0       0.0   \n",
       "3815033  I am going to introduce Mobilenet SSD face ext...    1  0.058824   \n",
       "3815034  In this kernel, it will be a clean version of ...    2  0.117647   \n",
       "3815035  **Here is the comparison to other face extract...    3  0.176471   \n",
       "3815036                                          # Imports    4  0.235294   \n",
       "\n",
       "        ancestor_id       parent_id  \n",
       "3815032    047612c1  074054d4860254  \n",
       "3815033    047612c1  074054d4860254  \n",
       "3815034    047612c1  074054d4860254  \n",
       "3815035    047612c1  074054d4860254  \n",
       "3815036    047612c1  074054d4860254  "
      ]
     },
     "execution_count": 15,
     "metadata": {},
     "output_type": "execute_result"
    }
   ],
   "source": [
    "train.head()"
   ]
  },
  {
   "cell_type": "code",
   "execution_count": 16,
   "metadata": {},
   "outputs": [],
   "source": [
    "val_test = df.reset_index(drop=True).merge(\n",
    "    pd.Series(val_test.index, index=val_test.index), \n",
    "    how=\"right\", \n",
    "    left_on=\"id\", \n",
    "    right_index=True\n",
    ")\n",
    "\n",
    "val_test = val_test.drop([\"id_x\", \"id_y\"], axis=1)"
   ]
  },
  {
   "cell_type": "code",
   "execution_count": 17,
   "metadata": {},
   "outputs": [
    {
     "data": {
      "text/html": [
       "<div>\n",
       "<style scoped>\n",
       "    .dataframe tbody tr th:only-of-type {\n",
       "        vertical-align: middle;\n",
       "    }\n",
       "\n",
       "    .dataframe tbody tr th {\n",
       "        vertical-align: top;\n",
       "    }\n",
       "\n",
       "    .dataframe thead th {\n",
       "        text-align: right;\n",
       "    }\n",
       "</style>\n",
       "<table border=\"1\" class=\"dataframe\">\n",
       "  <thead>\n",
       "    <tr style=\"text-align: right;\">\n",
       "      <th></th>\n",
       "      <th>id</th>\n",
       "      <th>cell_id</th>\n",
       "      <th>cell_type</th>\n",
       "      <th>source</th>\n",
       "      <th>rank</th>\n",
       "      <th>pct_rank</th>\n",
       "      <th>ancestor_id</th>\n",
       "      <th>parent_id</th>\n",
       "    </tr>\n",
       "  </thead>\n",
       "  <tbody>\n",
       "    <tr>\n",
       "      <th>5354865</th>\n",
       "      <td>d738adfdc1a0ab</td>\n",
       "      <td>e1dbd8f4</td>\n",
       "      <td>markdown</td>\n",
       "      <td>---\\n# DATA DICTIONARY\\n#### Competition: [CAN...</td>\n",
       "      <td>0</td>\n",
       "      <td>0.0</td>\n",
       "      <td>14046542</td>\n",
       "      <td>f33207a5a16bde</td>\n",
       "    </tr>\n",
       "    <tr>\n",
       "      <th>5354866</th>\n",
       "      <td>d738adfdc1a0ab</td>\n",
       "      <td>3cb85821</td>\n",
       "      <td>markdown</td>\n",
       "      <td>---\\n## General Notes on the Data\\n---</td>\n",
       "      <td>1</td>\n",
       "      <td>0.05</td>\n",
       "      <td>14046542</td>\n",
       "      <td>f33207a5a16bde</td>\n",
       "    </tr>\n",
       "    <tr>\n",
       "      <th>5354867</th>\n",
       "      <td>d738adfdc1a0ab</td>\n",
       "      <td>003e3216</td>\n",
       "      <td>markdown</td>\n",
       "      <td>In total there are ~60k records of sailings (c...</td>\n",
       "      <td>2</td>\n",
       "      <td>0.1</td>\n",
       "      <td>14046542</td>\n",
       "      <td>f33207a5a16bde</td>\n",
       "    </tr>\n",
       "    <tr>\n",
       "      <th>5354868</th>\n",
       "      <td>d738adfdc1a0ab</td>\n",
       "      <td>2cd587e8</td>\n",
       "      <td>markdown</td>\n",
       "      <td>---\\n## Data Dictionaries\\n---</td>\n",
       "      <td>3</td>\n",
       "      <td>0.15</td>\n",
       "      <td>14046542</td>\n",
       "      <td>f33207a5a16bde</td>\n",
       "    </tr>\n",
       "    <tr>\n",
       "      <th>5354869</th>\n",
       "      <td>d738adfdc1a0ab</td>\n",
       "      <td>5b4e430e</td>\n",
       "      <td>markdown</td>\n",
       "      <td>### Data Dictionary for `train.csv`:\\n\\n| INDE...</td>\n",
       "      <td>4</td>\n",
       "      <td>0.2</td>\n",
       "      <td>14046542</td>\n",
       "      <td>f33207a5a16bde</td>\n",
       "    </tr>\n",
       "  </tbody>\n",
       "</table>\n",
       "</div>"
      ],
      "text/plain": [
       "                     id   cell_id cell_type  \\\n",
       "5354865  d738adfdc1a0ab  e1dbd8f4  markdown   \n",
       "5354866  d738adfdc1a0ab  3cb85821  markdown   \n",
       "5354867  d738adfdc1a0ab  003e3216  markdown   \n",
       "5354868  d738adfdc1a0ab  2cd587e8  markdown   \n",
       "5354869  d738adfdc1a0ab  5b4e430e  markdown   \n",
       "\n",
       "                                                    source rank pct_rank  \\\n",
       "5354865  ---\\n# DATA DICTIONARY\\n#### Competition: [CAN...    0      0.0   \n",
       "5354866             ---\\n## General Notes on the Data\\n---    1     0.05   \n",
       "5354867  In total there are ~60k records of sailings (c...    2      0.1   \n",
       "5354868                     ---\\n## Data Dictionaries\\n---    3     0.15   \n",
       "5354869  ### Data Dictionary for `train.csv`:\\n\\n| INDE...    4      0.2   \n",
       "\n",
       "        ancestor_id       parent_id  \n",
       "5354865    14046542  f33207a5a16bde  \n",
       "5354866    14046542  f33207a5a16bde  \n",
       "5354867    14046542  f33207a5a16bde  \n",
       "5354868    14046542  f33207a5a16bde  \n",
       "5354869    14046542  f33207a5a16bde  "
      ]
     },
     "execution_count": 17,
     "metadata": {},
     "output_type": "execute_result"
    }
   ],
   "source": [
    "val_test.head()"
   ]
  },
  {
   "cell_type": "markdown",
   "metadata": {},
   "source": [
    "For the validation and the test set, we are going to use the notebooks that the model has not seen from the training process. To accomplish it, we should remove all the notebooks that their parent id is valid (i.e. remove the notebooks forked from another notebook):"
   ]
  },
  {
   "cell_type": "code",
   "execution_count": 18,
   "metadata": {},
   "outputs": [],
   "source": [
    "# filter the val_test set\n",
    "temp = val_test\n",
    "val_test = val_test[val_test.parent_id.isnull()]"
   ]
  },
  {
   "cell_type": "markdown",
   "metadata": {},
   "source": [
    "The notebooks in ```val_test``` that have the valid parent ids will be returned to the ```train``` set:"
   ]
  },
  {
   "cell_type": "code",
   "execution_count": 19,
   "metadata": {},
   "outputs": [
    {
     "name": "stderr",
     "output_type": "stream",
     "text": [
      "/var/folders/t5/xgs6h3fs2tn72mlvfg80_23w0000gn/T/ipykernel_41607/3033907860.py:3: FutureWarning: The frame.append method is deprecated and will be removed from pandas in a future version. Use pandas.concat instead.\n",
      "  train = train.append(temp, ignore_index=True)\n"
     ]
    }
   ],
   "source": [
    "# append train set\n",
    "temp = temp[temp.parent_id.notnull()]\n",
    "train = train.append(temp, ignore_index=True)"
   ]
  },
  {
   "cell_type": "markdown",
   "metadata": {},
   "source": [
    "Equally split the ```val_test``` into validation and test set:"
   ]
  },
  {
   "cell_type": "code",
   "execution_count": 20,
   "metadata": {},
   "outputs": [],
   "source": [
    "val, test = train_test_split(\n",
    "    val_test.groupby(\"id\").count(), \n",
    "    test_size=0.5, \n",
    "    random_state=42\n",
    ")"
   ]
  },
  {
   "cell_type": "code",
   "execution_count": 21,
   "metadata": {},
   "outputs": [],
   "source": [
    "val = df.reset_index(drop=True).merge(\n",
    "    pd.Series(val.index, index=val.index), \n",
    "    how=\"right\", \n",
    "    left_on=\"id\", \n",
    "    right_index=True\n",
    ")\n",
    "\n",
    "val = val.drop([\"id_x\", \"id_y\"], axis=1)"
   ]
  },
  {
   "cell_type": "code",
   "execution_count": 22,
   "metadata": {},
   "outputs": [],
   "source": [
    "test = df.reset_index(drop=True).merge(\n",
    "    pd.Series(test.index, index=test.index), \n",
    "    how=\"right\", \n",
    "    left_on=\"id\", \n",
    "    right_index=True\n",
    ")\n",
    "\n",
    "test = test.drop([\"id_x\", \"id_y\"], axis=1)"
   ]
  },
  {
   "cell_type": "markdown",
   "metadata": {},
   "source": [
    "## Save the split data"
   ]
  },
  {
   "cell_type": "code",
   "execution_count": 23,
   "metadata": {},
   "outputs": [],
   "source": [
    "train.to_csv(\"data/train.csv\", index=False)\n",
    "test.to_csv(\"data/test.csv\", index=False)\n",
    "val.to_csv(\"data/val.csv\", index=False)"
   ]
  },
  {
   "cell_type": "code",
   "execution_count": null,
   "metadata": {},
   "outputs": [],
   "source": []
  }
 ],
 "metadata": {
  "kernelspec": {
   "display_name": "Python 3.9.13 ('tensorflow')",
   "language": "python",
   "name": "python3"
  },
  "language_info": {
   "codemirror_mode": {
    "name": "ipython",
    "version": 3
   },
   "file_extension": ".py",
   "mimetype": "text/x-python",
   "name": "python",
   "nbconvert_exporter": "python",
   "pygments_lexer": "ipython3",
   "version": "3.9.13"
  },
  "orig_nbformat": 4,
  "vscode": {
   "interpreter": {
    "hash": "ee7d7838ef53998fd22ad7449b76e48b4013ea11e59d28ee193f2cd757746339"
   }
  }
 },
 "nbformat": 4,
 "nbformat_minor": 2
}
