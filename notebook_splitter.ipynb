{
 "cells": [
  {
   "cell_type": "markdown",
   "metadata": {},
   "source": [
    "# Notebook EDA\n",
    "# and Create the Training, Validation, Testing data set"
   ]
  },
  {
   "cell_type": "code",
   "execution_count": 1,
   "metadata": {},
   "outputs": [],
   "source": [
    "import tensorflow as tf\n",
    "import numpy as np\n",
    "import pandas as pd\n",
    "import matplotlib.pyplot as plt\n",
    "from sklearn.model_selection import train_test_split\n",
    "\n",
    "from constant import *\n",
    "from data import Dataset"
   ]
  },
  {
   "cell_type": "markdown",
   "metadata": {},
   "source": [
    "Load the whole dataset:"
   ]
  },
  {
   "cell_type": "code",
   "execution_count": 2,
   "metadata": {},
   "outputs": [
    {
     "name": "stderr",
     "output_type": "stream",
     "text": [
      "Train NBs:  75%|███████▍  | 103980/139256 [03:06<01:01, 569.49it/s]"
     ]
    }
   ],
   "source": [
    "d = Dataset(\n",
    "    DATA_DIR, \n",
    "    MODEL_PATH, \n",
    "    -1, \n",
    "    -1, \n",
    "    -1, \n",
    "    -1, \n",
    "    -1, \n",
    "    -1\n",
    ")\n",
    "\n",
    "df = d.load_dataset()"
   ]
  },
  {
   "cell_type": "markdown",
   "metadata": {},
   "source": [
    "Take a look at the dataset:"
   ]
  },
  {
   "cell_type": "code",
   "execution_count": null,
   "metadata": {},
   "outputs": [
    {
     "data": {
      "text/html": [
       "<div>\n",
       "<style scoped>\n",
       "    .dataframe tbody tr th:only-of-type {\n",
       "        vertical-align: middle;\n",
       "    }\n",
       "\n",
       "    .dataframe tbody tr th {\n",
       "        vertical-align: top;\n",
       "    }\n",
       "\n",
       "    .dataframe thead th {\n",
       "        text-align: right;\n",
       "    }\n",
       "</style>\n",
       "<table border=\"1\" class=\"dataframe\">\n",
       "  <thead>\n",
       "    <tr style=\"text-align: right;\">\n",
       "      <th></th>\n",
       "      <th>id</th>\n",
       "      <th>cell_id</th>\n",
       "      <th>cell_type</th>\n",
       "      <th>source</th>\n",
       "      <th>rank</th>\n",
       "      <th>pct_rank</th>\n",
       "      <th>ancestor_id</th>\n",
       "      <th>parent_id</th>\n",
       "    </tr>\n",
       "  </thead>\n",
       "  <tbody>\n",
       "    <tr>\n",
       "      <th>0</th>\n",
       "      <td>005a0b5efe318c</td>\n",
       "      <td>2aeaa963</td>\n",
       "      <td>markdown</td>\n",
       "      <td># Kaggle Seattle Airbnb\\n\\n## Project Info\\n\\n...</td>\n",
       "      <td>0</td>\n",
       "      <td>0.0</td>\n",
       "      <td>2d5d7ed0</td>\n",
       "      <td>NaN</td>\n",
       "    </tr>\n",
       "    <tr>\n",
       "      <th>1</th>\n",
       "      <td>005a0b5efe318c</td>\n",
       "      <td>2993372a</td>\n",
       "      <td>markdown</td>\n",
       "      <td>---\\n\\n# Airbnb Exploration\\n\\n## Who needs th...</td>\n",
       "      <td>1</td>\n",
       "      <td>0.012195</td>\n",
       "      <td>2d5d7ed0</td>\n",
       "      <td>NaN</td>\n",
       "    </tr>\n",
       "    <tr>\n",
       "      <th>2</th>\n",
       "      <td>005a0b5efe318c</td>\n",
       "      <td>20bfc5dd</td>\n",
       "      <td>markdown</td>\n",
       "      <td>---\\n\\n# Dependencies</td>\n",
       "      <td>2</td>\n",
       "      <td>0.02439</td>\n",
       "      <td>2d5d7ed0</td>\n",
       "      <td>NaN</td>\n",
       "    </tr>\n",
       "    <tr>\n",
       "      <th>3</th>\n",
       "      <td>005a0b5efe318c</td>\n",
       "      <td>ad61a02e</td>\n",
       "      <td>code</td>\n",
       "      <td># Statistics\\nimport pandas as pd\\nimport nump...</td>\n",
       "      <td>3</td>\n",
       "      <td>0.036585</td>\n",
       "      <td>2d5d7ed0</td>\n",
       "      <td>NaN</td>\n",
       "    </tr>\n",
       "    <tr>\n",
       "      <th>4</th>\n",
       "      <td>005a0b5efe318c</td>\n",
       "      <td>9c7e9cf9</td>\n",
       "      <td>markdown</td>\n",
       "      <td>---\\n\\n## Load Datasets\\n\\n- listings: The lis...</td>\n",
       "      <td>4</td>\n",
       "      <td>0.04878</td>\n",
       "      <td>2d5d7ed0</td>\n",
       "      <td>NaN</td>\n",
       "    </tr>\n",
       "  </tbody>\n",
       "</table>\n",
       "</div>"
      ],
      "text/plain": [
       "               id   cell_id cell_type  \\\n",
       "0  005a0b5efe318c  2aeaa963  markdown   \n",
       "1  005a0b5efe318c  2993372a  markdown   \n",
       "2  005a0b5efe318c  20bfc5dd  markdown   \n",
       "3  005a0b5efe318c  ad61a02e      code   \n",
       "4  005a0b5efe318c  9c7e9cf9  markdown   \n",
       "\n",
       "                                              source rank  pct_rank  \\\n",
       "0  # Kaggle Seattle Airbnb\\n\\n## Project Info\\n\\n...    0       0.0   \n",
       "1  ---\\n\\n# Airbnb Exploration\\n\\n## Who needs th...    1  0.012195   \n",
       "2                              ---\\n\\n# Dependencies    2   0.02439   \n",
       "3  # Statistics\\nimport pandas as pd\\nimport nump...    3  0.036585   \n",
       "4  ---\\n\\n## Load Datasets\\n\\n- listings: The lis...    4   0.04878   \n",
       "\n",
       "  ancestor_id parent_id  \n",
       "0    2d5d7ed0       NaN  \n",
       "1    2d5d7ed0       NaN  \n",
       "2    2d5d7ed0       NaN  \n",
       "3    2d5d7ed0       NaN  \n",
       "4    2d5d7ed0       NaN  "
      ]
     },
     "execution_count": 3,
     "metadata": {},
     "output_type": "execute_result"
    }
   ],
   "source": [
    "df.head()"
   ]
  },
  {
   "cell_type": "markdown",
   "metadata": {},
   "source": [
    "## Notebook EDA"
   ]
  },
  {
   "cell_type": "markdown",
   "metadata": {},
   "source": [
    "### Get the distribution of the number of cells within each notebook"
   ]
  },
  {
   "cell_type": "code",
   "execution_count": null,
   "metadata": {},
   "outputs": [],
   "source": [
    "cell_num = df.groupby(\"id\").count()"
   ]
  },
  {
   "cell_type": "code",
   "execution_count": null,
   "metadata": {},
   "outputs": [
    {
     "data": {
      "image/png": "[encoded data removed]",
      "text/plain": [
       "<Figure size 640x480 with 1 Axes>"
      ]
     },
     "metadata": {},
     "output_type": "display_data"
    }
   ],
   "source": [
    "plt.boxplot(cell_num[\"cell_id\"])\n",
    "plt.show()"
   ]
  },
  {
   "cell_type": "markdown",
   "metadata": {},
   "source": [
    "From the plot above, there are some outliers having from more than about 128 to 1000 cells within a notebook. Let's figure out how much of them are in our dataset:"
   ]
  },
  {
   "cell_type": "code",
   "execution_count": null,
   "metadata": {},
   "outputs": [
    {
     "data": {
      "text/plain": [
       "3.0"
      ]
     },
     "execution_count": 6,
     "metadata": {},
     "output_type": "execute_result"
    }
   ],
   "source": [
    "np.mean(cell_num[\"cell_id\"] > 128) * 100"
   ]
  },
  {
   "cell_type": "markdown",
   "metadata": {},
   "source": [
    "There are only 4% of them. So we end up remove the out of our dataset."
   ]
  },
  {
   "cell_type": "code",
   "execution_count": null,
   "metadata": {},
   "outputs": [],
   "source": [
    "cell_num = cell_num[cell_num[\"cell_id\"] <= 128]"
   ]
  },
  {
   "cell_type": "markdown",
   "metadata": {},
   "source": [
    "Plot the distribution after removing outliers:"
   ]
  },
  {
   "cell_type": "code",
   "execution_count": null,
   "metadata": {},
   "outputs": [
    {
     "data": {
      "image/png": "[encoded data removed]",
      "text/plain": [
       "<Figure size 640x480 with 1 Axes>"
      ]
     },
     "metadata": {},
     "output_type": "display_data"
    }
   ],
   "source": [
    "plt.hist(cell_num.cell_id, density=True, bins=128)\n",
    "plt.show()"
   ]
  },
  {
   "cell_type": "markdown",
   "metadata": {},
   "source": [
    "### Get the distribution of the number of words within each cell"
   ]
  },
  {
   "cell_type": "code",
   "execution_count": null,
   "metadata": {},
   "outputs": [
    {
     "data": {
      "text/html": [
       "<div>\n",
       "<style scoped>\n",
       "    .dataframe tbody tr th:only-of-type {\n",
       "        vertical-align: middle;\n",
       "    }\n",
       "\n",
       "    .dataframe tbody tr th {\n",
       "        vertical-align: top;\n",
       "    }\n",
       "\n",
       "    .dataframe thead th {\n",
       "        text-align: right;\n",
       "    }\n",
       "</style>\n",
       "<table border=\"1\" class=\"dataframe\">\n",
       "  <thead>\n",
       "    <tr style=\"text-align: right;\">\n",
       "      <th></th>\n",
       "      <th>id</th>\n",
       "      <th>cell_id</th>\n",
       "      <th>cell_type</th>\n",
       "      <th>source</th>\n",
       "      <th>rank</th>\n",
       "      <th>pct_rank</th>\n",
       "      <th>ancestor_id</th>\n",
       "      <th>parent_id</th>\n",
       "      <th>word_count</th>\n",
       "    </tr>\n",
       "  </thead>\n",
       "  <tbody>\n",
       "    <tr>\n",
       "      <th>0</th>\n",
       "      <td>005a0b5efe318c</td>\n",
       "      <td>2aeaa963</td>\n",
       "      <td>markdown</td>\n",
       "      <td># Kaggle Seattle Airbnb\\n\\n## Project Info\\n\\n...</td>\n",
       "      <td>0</td>\n",
       "      <td>0.0</td>\n",
       "      <td>2d5d7ed0</td>\n",
       "      <td>NaN</td>\n",
       "      <td>359</td>\n",
       "    </tr>\n",
       "    <tr>\n",
       "      <th>1</th>\n",
       "      <td>005a0b5efe318c</td>\n",
       "      <td>2993372a</td>\n",
       "      <td>markdown</td>\n",
       "      <td>---\\n\\n# Airbnb Exploration\\n\\n## Who needs th...</td>\n",
       "      <td>1</td>\n",
       "      <td>0.012195</td>\n",
       "      <td>2d5d7ed0</td>\n",
       "      <td>NaN</td>\n",
       "      <td>440</td>\n",
       "    </tr>\n",
       "    <tr>\n",
       "      <th>2</th>\n",
       "      <td>005a0b5efe318c</td>\n",
       "      <td>20bfc5dd</td>\n",
       "      <td>markdown</td>\n",
       "      <td>---\\n\\n# Dependencies</td>\n",
       "      <td>2</td>\n",
       "      <td>0.02439</td>\n",
       "      <td>2d5d7ed0</td>\n",
       "      <td>NaN</td>\n",
       "      <td>3</td>\n",
       "    </tr>\n",
       "    <tr>\n",
       "      <th>3</th>\n",
       "      <td>005a0b5efe318c</td>\n",
       "      <td>ad61a02e</td>\n",
       "      <td>code</td>\n",
       "      <td># Statistics\\nimport pandas as pd\\nimport nump...</td>\n",
       "      <td>3</td>\n",
       "      <td>0.036585</td>\n",
       "      <td>2d5d7ed0</td>\n",
       "      <td>NaN</td>\n",
       "      <td>225</td>\n",
       "    </tr>\n",
       "    <tr>\n",
       "      <th>4</th>\n",
       "      <td>005a0b5efe318c</td>\n",
       "      <td>9c7e9cf9</td>\n",
       "      <td>markdown</td>\n",
       "      <td>---\\n\\n## Load Datasets\\n\\n- listings: The lis...</td>\n",
       "      <td>4</td>\n",
       "      <td>0.04878</td>\n",
       "      <td>2d5d7ed0</td>\n",
       "      <td>NaN</td>\n",
       "      <td>40</td>\n",
       "    </tr>\n",
       "  </tbody>\n",
       "</table>\n",
       "</div>"
      ],
      "text/plain": [
       "               id   cell_id cell_type  \\\n",
       "0  005a0b5efe318c  2aeaa963  markdown   \n",
       "1  005a0b5efe318c  2993372a  markdown   \n",
       "2  005a0b5efe318c  20bfc5dd  markdown   \n",
       "3  005a0b5efe318c  ad61a02e      code   \n",
       "4  005a0b5efe318c  9c7e9cf9  markdown   \n",
       "\n",
       "                                              source rank  pct_rank  \\\n",
       "0  # Kaggle Seattle Airbnb\\n\\n## Project Info\\n\\n...    0       0.0   \n",
       "1  ---\\n\\n# Airbnb Exploration\\n\\n## Who needs th...    1  0.012195   \n",
       "2                              ---\\n\\n# Dependencies    2   0.02439   \n",
       "3  # Statistics\\nimport pandas as pd\\nimport nump...    3  0.036585   \n",
       "4  ---\\n\\n## Load Datasets\\n\\n- listings: The lis...    4   0.04878   \n",
       "\n",
       "  ancestor_id parent_id  word_count  \n",
       "0    2d5d7ed0       NaN         359  \n",
       "1    2d5d7ed0       NaN         440  \n",
       "2    2d5d7ed0       NaN           3  \n",
       "3    2d5d7ed0       NaN         225  \n",
       "4    2d5d7ed0       NaN          40  "
      ]
     },
     "execution_count": 9,
     "metadata": {},
     "output_type": "execute_result"
    }
   ],
   "source": [
    "df_temp = df.assign(word_count = lambda x: (x['source'].str.split().str.len()))\n",
    "df_temp.head()"
   ]
  },
  {
   "cell_type": "code",
   "execution_count": null,
   "metadata": {},
   "outputs": [
    {
     "data": {
      "image/png": "[encoded data removed]",
      "text/plain": [
       "<Figure size 640x480 with 1 Axes>"
      ]
     },
     "metadata": {},
     "output_type": "display_data"
    }
   ],
   "source": [
    "plt.boxplot(df_temp[\"word_count\"])\n",
    "plt.show()"
   ]
  },
  {
   "cell_type": "markdown",
   "metadata": {},
   "source": [
    "From the plot above, let's figure out how many percent that a cell contains more than 128 words:"
   ]
  },
  {
   "cell_type": "code",
   "execution_count": null,
   "metadata": {},
   "outputs": [
    {
     "data": {
      "text/plain": [
       "3.5172247651168393"
      ]
     },
     "execution_count": 11,
     "metadata": {},
     "output_type": "execute_result"
    }
   ],
   "source": [
    "np.mean(df_temp[\"word_count\"] > 128) * 100"
   ]
  },
  {
   "cell_type": "markdown",
   "metadata": {},
   "source": [
    "There are only 4% that a cell having more than 128 words. Ideally, while training we should limit the number of words within a cell to 128. Take a look at how the number of words with a cell with less than 128 words distribute:"
   ]
  },
  {
   "cell_type": "code",
   "execution_count": null,
   "metadata": {},
   "outputs": [
    {
     "data": {
      "image/png": "[encoded data removed]",
      "text/plain": [
       "<Figure size 640x480 with 1 Axes>"
      ]
     },
     "metadata": {},
     "output_type": "display_data"
    }
   ],
   "source": [
    "plt.hist(df_temp[df_temp[\"word_count\"] <= 128].word_count, bins=128, density=True)\n",
    "plt.show()"
   ]
  },
  {
   "cell_type": "markdown",
   "metadata": {},
   "source": [
    "## Split dataset"
   ]
  },
  {
   "cell_type": "markdown",
   "metadata": {},
   "source": [
    "Since there are almost 140k notebooks in the dataset, we should use about 5k for the validation set and another 5k for the test set. The remaining is used for training.\n",
    "\n",
    "So we will use test size with 9% for both the validation and test set:"
   ]
  },
  {
   "cell_type": "code",
   "execution_count": null,
   "metadata": {},
   "outputs": [],
   "source": [
    "train, val_test = train_test_split(\n",
    "    df.groupby(\"id\").count(), \n",
    "    test_size=0.09, \n",
    "    random_state=42\n",
    ")"
   ]
  },
  {
   "cell_type": "code",
   "execution_count": null,
   "metadata": {},
   "outputs": [],
   "source": [
    "train = df.reset_index(drop=True).merge(\n",
    "    pd.Series(train.index, index=train.index), \n",
    "    how=\"right\", \n",
    "    left_on=\"id\", \n",
    "    right_index=True\n",
    ")\n",
    "\n",
    "train = train.drop([\"id_x\", \"id_y\"], axis=1)"
   ]
  },
  {
   "cell_type": "code",
   "execution_count": null,
   "metadata": {},
   "outputs": [
    {
     "data": {
      "text/html": [
       "<div>\n",
       "<style scoped>\n",
       "    .dataframe tbody tr th:only-of-type {\n",
       "        vertical-align: middle;\n",
       "    }\n",
       "\n",
       "    .dataframe tbody tr th {\n",
       "        vertical-align: top;\n",
       "    }\n",
       "\n",
       "    .dataframe thead th {\n",
       "        text-align: right;\n",
       "    }\n",
       "</style>\n",
       "<table border=\"1\" class=\"dataframe\">\n",
       "  <thead>\n",
       "    <tr style=\"text-align: right;\">\n",
       "      <th></th>\n",
       "      <th>id</th>\n",
       "      <th>cell_id</th>\n",
       "      <th>cell_type</th>\n",
       "      <th>source</th>\n",
       "      <th>rank</th>\n",
       "      <th>pct_rank</th>\n",
       "      <th>ancestor_id</th>\n",
       "      <th>parent_id</th>\n",
       "    </tr>\n",
       "  </thead>\n",
       "  <tbody>\n",
       "    <tr>\n",
       "      <th>0</th>\n",
       "      <td>005a0b5efe318c</td>\n",
       "      <td>2aeaa963</td>\n",
       "      <td>markdown</td>\n",
       "      <td># Kaggle Seattle Airbnb\\n\\n## Project Info\\n\\n...</td>\n",
       "      <td>0</td>\n",
       "      <td>0.0</td>\n",
       "      <td>2d5d7ed0</td>\n",
       "      <td>NaN</td>\n",
       "    </tr>\n",
       "    <tr>\n",
       "      <th>1</th>\n",
       "      <td>005a0b5efe318c</td>\n",
       "      <td>2993372a</td>\n",
       "      <td>markdown</td>\n",
       "      <td>---\\n\\n# Airbnb Exploration\\n\\n## Who needs th...</td>\n",
       "      <td>1</td>\n",
       "      <td>0.012195</td>\n",
       "      <td>2d5d7ed0</td>\n",
       "      <td>NaN</td>\n",
       "    </tr>\n",
       "    <tr>\n",
       "      <th>2</th>\n",
       "      <td>005a0b5efe318c</td>\n",
       "      <td>20bfc5dd</td>\n",
       "      <td>markdown</td>\n",
       "      <td>---\\n\\n# Dependencies</td>\n",
       "      <td>2</td>\n",
       "      <td>0.02439</td>\n",
       "      <td>2d5d7ed0</td>\n",
       "      <td>NaN</td>\n",
       "    </tr>\n",
       "    <tr>\n",
       "      <th>3</th>\n",
       "      <td>005a0b5efe318c</td>\n",
       "      <td>ad61a02e</td>\n",
       "      <td>code</td>\n",
       "      <td># Statistics\\nimport pandas as pd\\nimport nump...</td>\n",
       "      <td>3</td>\n",
       "      <td>0.036585</td>\n",
       "      <td>2d5d7ed0</td>\n",
       "      <td>NaN</td>\n",
       "    </tr>\n",
       "    <tr>\n",
       "      <th>4</th>\n",
       "      <td>005a0b5efe318c</td>\n",
       "      <td>9c7e9cf9</td>\n",
       "      <td>markdown</td>\n",
       "      <td>---\\n\\n## Load Datasets\\n\\n- listings: The lis...</td>\n",
       "      <td>4</td>\n",
       "      <td>0.04878</td>\n",
       "      <td>2d5d7ed0</td>\n",
       "      <td>NaN</td>\n",
       "    </tr>\n",
       "  </tbody>\n",
       "</table>\n",
       "</div>"
      ],
      "text/plain": [
       "               id   cell_id cell_type  \\\n",
       "0  005a0b5efe318c  2aeaa963  markdown   \n",
       "1  005a0b5efe318c  2993372a  markdown   \n",
       "2  005a0b5efe318c  20bfc5dd  markdown   \n",
       "3  005a0b5efe318c  ad61a02e      code   \n",
       "4  005a0b5efe318c  9c7e9cf9  markdown   \n",
       "\n",
       "                                              source rank  pct_rank  \\\n",
       "0  # Kaggle Seattle Airbnb\\n\\n## Project Info\\n\\n...    0       0.0   \n",
       "1  ---\\n\\n# Airbnb Exploration\\n\\n## Who needs th...    1  0.012195   \n",
       "2                              ---\\n\\n# Dependencies    2   0.02439   \n",
       "3  # Statistics\\nimport pandas as pd\\nimport nump...    3  0.036585   \n",
       "4  ---\\n\\n## Load Datasets\\n\\n- listings: The lis...    4   0.04878   \n",
       "\n",
       "  ancestor_id parent_id  \n",
       "0    2d5d7ed0       NaN  \n",
       "1    2d5d7ed0       NaN  \n",
       "2    2d5d7ed0       NaN  \n",
       "3    2d5d7ed0       NaN  \n",
       "4    2d5d7ed0       NaN  "
      ]
     },
     "execution_count": 29,
     "metadata": {},
     "output_type": "execute_result"
    }
   ],
   "source": [
    "train.head()"
   ]
  },
  {
   "cell_type": "code",
   "execution_count": null,
   "metadata": {},
   "outputs": [],
   "source": [
    "val_test = df.reset_index(drop=True).merge(\n",
    "    pd.Series(val_test.index, index=val_test.index), \n",
    "    how=\"right\", \n",
    "    left_on=\"id\", \n",
    "    right_index=True\n",
    ")\n",
    "\n",
    "val_test = val_test.drop([\"id_x\", \"id_y\"], axis=1)"
   ]
  },
  {
   "cell_type": "code",
   "execution_count": null,
   "metadata": {},
   "outputs": [
    {
     "data": {
      "text/html": [
       "<div>\n",
       "<style scoped>\n",
       "    .dataframe tbody tr th:only-of-type {\n",
       "        vertical-align: middle;\n",
       "    }\n",
       "\n",
       "    .dataframe tbody tr th {\n",
       "        vertical-align: top;\n",
       "    }\n",
       "\n",
       "    .dataframe thead th {\n",
       "        text-align: right;\n",
       "    }\n",
       "</style>\n",
       "<table border=\"1\" class=\"dataframe\">\n",
       "  <thead>\n",
       "    <tr style=\"text-align: right;\">\n",
       "      <th></th>\n",
       "      <th>id</th>\n",
       "      <th>cell_id</th>\n",
       "      <th>cell_type</th>\n",
       "      <th>source</th>\n",
       "      <th>rank</th>\n",
       "      <th>pct_rank</th>\n",
       "      <th>ancestor_id</th>\n",
       "      <th>parent_id</th>\n",
       "    </tr>\n",
       "  </thead>\n",
       "  <tbody>\n",
       "    <tr>\n",
       "      <th>3525</th>\n",
       "      <td>d13e854529cbaa</td>\n",
       "      <td>71f76f20</td>\n",
       "      <td>markdown</td>\n",
       "      <td># Blending High Scores\\n## Upvote if you like</td>\n",
       "      <td>0</td>\n",
       "      <td>0.0</td>\n",
       "      <td>df4ab5fe</td>\n",
       "      <td>NaN</td>\n",
       "    </tr>\n",
       "    <tr>\n",
       "      <th>3526</th>\n",
       "      <td>d13e854529cbaa</td>\n",
       "      <td>9aa803df</td>\n",
       "      <td>code</td>\n",
       "      <td># Blending with https://www.kaggle.com/alfredm...</td>\n",
       "      <td>1</td>\n",
       "      <td>0.111111</td>\n",
       "      <td>df4ab5fe</td>\n",
       "      <td>NaN</td>\n",
       "    </tr>\n",
       "    <tr>\n",
       "      <th>3527</th>\n",
       "      <td>d13e854529cbaa</td>\n",
       "      <td>296055d7</td>\n",
       "      <td>code</td>\n",
       "      <td>import numpy as np\\nimport pandas as pd\\nimpor...</td>\n",
       "      <td>2</td>\n",
       "      <td>0.222222</td>\n",
       "      <td>df4ab5fe</td>\n",
       "      <td>NaN</td>\n",
       "    </tr>\n",
       "    <tr>\n",
       "      <th>3528</th>\n",
       "      <td>d13e854529cbaa</td>\n",
       "      <td>254c2b31</td>\n",
       "      <td>code</td>\n",
       "      <td>sub1 = pd.read_csv('../input/housesbumissions/...</td>\n",
       "      <td>3</td>\n",
       "      <td>0.333333</td>\n",
       "      <td>df4ab5fe</td>\n",
       "      <td>NaN</td>\n",
       "    </tr>\n",
       "    <tr>\n",
       "      <th>3529</th>\n",
       "      <td>d13e854529cbaa</td>\n",
       "      <td>e228da97</td>\n",
       "      <td>code</td>\n",
       "      <td>print( sub1['SalePrice'].describe() )\\nprint( ...</td>\n",
       "      <td>4</td>\n",
       "      <td>0.444444</td>\n",
       "      <td>df4ab5fe</td>\n",
       "      <td>NaN</td>\n",
       "    </tr>\n",
       "  </tbody>\n",
       "</table>\n",
       "</div>"
      ],
      "text/plain": [
       "                  id   cell_id cell_type  \\\n",
       "3525  d13e854529cbaa  71f76f20  markdown   \n",
       "3526  d13e854529cbaa  9aa803df      code   \n",
       "3527  d13e854529cbaa  296055d7      code   \n",
       "3528  d13e854529cbaa  254c2b31      code   \n",
       "3529  d13e854529cbaa  e228da97      code   \n",
       "\n",
       "                                                 source rank  pct_rank  \\\n",
       "3525      # Blending High Scores\\n## Upvote if you like    0       0.0   \n",
       "3526  # Blending with https://www.kaggle.com/alfredm...    1  0.111111   \n",
       "3527  import numpy as np\\nimport pandas as pd\\nimpor...    2  0.222222   \n",
       "3528  sub1 = pd.read_csv('../input/housesbumissions/...    3  0.333333   \n",
       "3529  print( sub1['SalePrice'].describe() )\\nprint( ...    4  0.444444   \n",
       "\n",
       "     ancestor_id parent_id  \n",
       "3525    df4ab5fe       NaN  \n",
       "3526    df4ab5fe       NaN  \n",
       "3527    df4ab5fe       NaN  \n",
       "3528    df4ab5fe       NaN  \n",
       "3529    df4ab5fe       NaN  "
      ]
     },
     "execution_count": 31,
     "metadata": {},
     "output_type": "execute_result"
    }
   ],
   "source": [
    "val_test.head()"
   ]
  },
  {
   "cell_type": "markdown",
   "metadata": {},
   "source": [
    "For the validation and the test set, we are going to use the notebooks that the model has not seen from the training process. To accomplish it, we should remove all the notebooks that their parent id is valid (i.e. remove the notebooks forked from another notebook):"
   ]
  },
  {
   "cell_type": "code",
   "execution_count": null,
   "metadata": {},
   "outputs": [],
   "source": [
    "# filter the val_test set\n",
    "temp = val_test\n",
    "val_test = val_test[val_test.parent_id.isnull()]"
   ]
  },
  {
   "cell_type": "markdown",
   "metadata": {},
   "source": [
    "The notebooks in ```val_test``` that have the valid parent ids will be returned to the ```train``` set:"
   ]
  },
  {
   "cell_type": "code",
   "execution_count": null,
   "metadata": {},
   "outputs": [
    {
     "name": "stderr",
     "output_type": "stream",
     "text": [
      "/var/folders/t5/xgs6h3fs2tn72mlvfg80_23w0000gn/T/ipykernel_41059/3033907860.py:3: FutureWarning: The frame.append method is deprecated and will be removed from pandas in a future version. Use pandas.concat instead.\n",
      "  train = train.append(temp, ignore_index=True)\n"
     ]
    }
   ],
   "source": [
    "# append train set\n",
    "temp = temp[temp.parent_id.notnull()]\n",
    "train = train.append(temp, ignore_index=True)"
   ]
  },
  {
   "cell_type": "markdown",
   "metadata": {},
   "source": [
    "Equally split the ```val_test``` into validation and test set:"
   ]
  },
  {
   "cell_type": "code",
   "execution_count": null,
   "metadata": {},
   "outputs": [],
   "source": [
    "val, test = train_test_split(\n",
    "    val_test.groupby(\"id\").count(), \n",
    "    test_size=0.5, \n",
    "    random_state=42\n",
    ")"
   ]
  },
  {
   "cell_type": "code",
   "execution_count": null,
   "metadata": {},
   "outputs": [],
   "source": [
    "val = df.reset_index(drop=True).merge(\n",
    "    pd.Series(val.index, index=val.index), \n",
    "    how=\"right\", \n",
    "    left_on=\"id\", \n",
    "    right_index=True\n",
    ")\n",
    "\n",
    "val = val.drop([\"id_x\", \"id_y\"], axis=1)"
   ]
  },
  {
   "cell_type": "code",
   "execution_count": null,
   "metadata": {},
   "outputs": [],
   "source": [
    "test = df.reset_index(drop=True).merge(\n",
    "    pd.Series(test.index, index=test.index), \n",
    "    how=\"right\", \n",
    "    left_on=\"id\", \n",
    "    right_index=True\n",
    ")\n",
    "\n",
    "test = test.drop([\"id_x\", \"id_y\"], axis=1)"
   ]
  },
  {
   "cell_type": "markdown",
   "metadata": {},
   "source": [
    "## Save the split data"
   ]
  },
  {
   "cell_type": "code",
   "execution_count": null,
   "metadata": {},
   "outputs": [],
   "source": [
    "train.to_csv(\"data/train.csv\", index=False)\n",
    "test.to_csv(\"data/test.csv\", index=False)\n",
    "val.to_csv(\"data/val.csv\", index=False)"
   ]
  }
 ],
 "metadata": {
  "kernelspec": {
   "display_name": "Python 3.9.13 ('tensorflow')",
   "language": "python",
   "name": "python3"
  },
  "language_info": {
   "codemirror_mode": {
    "name": "ipython",
    "version": 3
   },
   "file_extension": ".py",
   "mimetype": "text/x-python",
   "name": "python",
   "nbconvert_exporter": "python",
   "pygments_lexer": "ipython3",
   "version": "3.9.13"
  },
  "orig_nbformat": 4,
  "vscode": {
   "interpreter": {
    "hash": "ee7d7838ef53998fd22ad7449b76e48b4013ea11e59d28ee193f2cd757746339"
   }
  }
 },
 "nbformat": 4,
 "nbformat_minor": 2
}
